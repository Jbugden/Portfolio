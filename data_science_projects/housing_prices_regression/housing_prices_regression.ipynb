{
 "cells": [
  {
   "cell_type": "markdown",
   "metadata": {},
   "source": [
    "# Predicting Housing Prices with Advanced Regression\n",
    "\n",
    "### A Kaggle Competition"
   ]
  },
  {
   "cell_type": "markdown",
   "metadata": {},
   "source": [
    "### 📃 The Problem\n",
    "\n",
    "The goal of this project it to predict the sales price for each house in the provided data.\n",
    "\n",
    "### 👩‍💻 The Approach\n",
    "\n",
    "My initial approach will be to:\n",
    "- Understand the data (*what variables are in the data set?*)\n",
    "- Identify any missing, incomplete or invalid data\n",
    "- Visualise the data to get an understanding of the relationship between variables\n",
    "- Idenitfy the most appropriate model to use to solve the problem (*predicting housing prices*)\n",
    "\n"
   ]
  },
  {
   "cell_type": "markdown",
   "metadata": {},
   "source": []
  }
 ],
 "metadata": {
  "language_info": {
   "name": "python"
  },
  "orig_nbformat": 4
 },
 "nbformat": 4,
 "nbformat_minor": 2
}
