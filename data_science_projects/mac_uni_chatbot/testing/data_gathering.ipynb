{
 "cells": [
  {
   "cell_type": "markdown",
   "metadata": {},
   "source": [
    "# 📃 Data Extraction"
   ]
  },
  {
   "cell_type": "markdown",
   "metadata": {},
   "source": [
    "eploratory analysis for extracting data from macquarie university\n",
    "\n",
    "💡 IDEAS:\n",
    "- Have a list of unit codes and degree codes\n",
    "  - Iteratively go through and convert the HTML files to markdown or text files\n",
    "- For processes and policies this might have to be manual\n",
    "- Somehow get all pdf printouts of degrees, units, policies and processes\n",
    "  - Get reader of pdf to convert to text"
   ]
  },
  {
   "cell_type": "markdown",
   "metadata": {},
   "source": [
    "### pdf extraction testing"
   ]
  },
  {
   "cell_type": "code",
   "execution_count": 10,
   "metadata": {},
   "outputs": [],
   "source": [
    "from PyPDF2 import PdfReader"
   ]
  },
  {
   "cell_type": "code",
   "execution_count": 11,
   "metadata": {},
   "outputs": [],
   "source": [
    "# creating a pdf file object\n",
    "reader = PdfReader(\"docs/Principles of Maths, Science and Technology Education.pdf\")"
   ]
  },
  {
   "cell_type": "code",
   "execution_count": 18,
   "metadata": {},
   "outputs": [],
   "source": [
    "# creating a pdf reader object\n",
    "page = reader.pages[1]"
   ]
  },
  {
   "cell_type": "code",
   "execution_count": 19,
   "metadata": {},
   "outputs": [
    {
     "name": "stdout",
     "output_type": "stream",
     "text": [
      "Session 2, In person-scheduled-weekday, North Ryde\n",
      "Session 2, In person-scheduled-infrequent, North Ryde\n",
      "Requisites Expand all\n",
      "Enrolment rules\n",
      "Pre-requisite \n",
      "80cp including (EDST100 or EDST1000) and (EDST101 or EDST1010) and admission to (BABEd(Prim) or\n",
      "BEd(Prim)BPsych))\n",
      "Info \n",
      "If you have not met the pre-requisites but have at least three Band 5 (or above) NSW HSC results,\n",
      "including one English, you can apply for a waiver. (Band E3 or above results in an HSC extension\n",
      "course also meet Band 5 requirements for the purposes of a waiver application for this unit of\n",
      "study.)\n",
      "NCCW (pre-2020 units) \n",
      "EDST211\n",
      "Learning outcomes\n",
      "Expand all\n",
      "On successful completion you will be able to\n",
      "1.Explain the current research foundations of the mathematical, scientiﬁc, design and\n",
      "computational thinking of students.\n",
      "2.Articulate pedagogical principles for developing students' mathematical, scientiﬁc\n",
      "and computational thinking skills with reference to educational research and\n",
      "practice.\n",
      "3.Interpret and explain key concepts/principles/approaches/developmental\n",
      "progressions in NSW syllabuses for mathematics, science and technology.\n"
     ]
    }
   ],
   "source": [
    "print(page.extract_text())"
   ]
  },
  {
   "cell_type": "code",
   "execution_count": null,
   "metadata": {},
   "outputs": [],
   "source": []
  }
 ],
 "metadata": {
  "kernelspec": {
   "display_name": ".venv",
   "language": "python",
   "name": "python3"
  },
  "language_info": {
   "codemirror_mode": {
    "name": "ipython",
    "version": 3
   },
   "file_extension": ".py",
   "mimetype": "text/x-python",
   "name": "python",
   "nbconvert_exporter": "python",
   "pygments_lexer": "ipython3",
   "version": "3.10.5"
  },
  "orig_nbformat": 4
 },
 "nbformat": 4,
 "nbformat_minor": 2
}
